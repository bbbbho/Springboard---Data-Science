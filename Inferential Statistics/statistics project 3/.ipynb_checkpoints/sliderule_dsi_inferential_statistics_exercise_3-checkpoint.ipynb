{
 "cells": [
  {
   "cell_type": "markdown",
   "metadata": {},
   "source": [
    "# Hospital Readmissions Data Analysis and Recommendations for Reduction\n",
    "\n",
    "### Background\n",
    "In October 2012, the US government's Center for Medicare and Medicaid Services (CMS) began reducing Medicare payments for Inpatient Prospective Payment System hospitals with excess readmissions. Excess readmissions are measured by a ratio, by dividing a hospital’s number of “predicted” 30-day readmissions for heart attack, heart failure, and pneumonia by the number that would be “expected,” based on an average hospital with similar patients. A ratio greater than 1 indicates excess readmissions.\n",
    "\n",
    "### Exercise Directions\n",
    "\n",
    "In this exercise, you will:\n",
    "+ critique a preliminary analysis of readmissions data and recommendations (provided below) for reducing the readmissions rate\n",
    "+ construct a statistically sound analysis and make recommendations of your own \n",
    "\n",
    "More instructions provided below. Include your work **in this notebook and submit to your Github account**. \n",
    "\n",
    "### Resources\n",
    "+ Data source: https://data.medicare.gov/Hospital-Compare/Hospital-Readmission-Reduction/9n3s-kdb3\n",
    "+ More information: http://www.cms.gov/Medicare/medicare-fee-for-service-payment/acuteinpatientPPS/readmissions-reduction-program.html\n",
    "+ Markdown syntax: http://nestacms.com/docs/creating-content/markdown-cheat-sheet\n",
    "****"
   ]
  },
  {
   "cell_type": "code",
   "execution_count": null,
   "metadata": {
    "collapsed": false
   },
   "outputs": [],
   "source": [
    "%matplotlib inline\n",
    "\n",
    "import pandas as pd\n",
    "import numpy as np\n",
    "import matplotlib.pyplot as plt\n",
    "import bokeh.plotting as bkp\n",
    "from mpl_toolkits.axes_grid1 import make_axes_locatable\n",
    "import scipy.stats as stats"
   ]
  },
  {
   "cell_type": "code",
   "execution_count": null,
   "metadata": {
    "collapsed": false
   },
   "outputs": [],
   "source": [
    "# read in readmissions data provided\n",
    "hospital_read_df = pd.read_csv('data/cms_hospital_readmissions.csv')"
   ]
  },
  {
   "cell_type": "markdown",
   "metadata": {},
   "source": [
    "****\n",
    "## Preliminary Analysis"
   ]
  },
  {
   "cell_type": "code",
   "execution_count": null,
   "metadata": {
    "collapsed": false
   },
   "outputs": [],
   "source": [
    "# deal with missing and inconvenient portions of data \n",
    "clean_hospital_read_df = hospital_read_df[hospital_read_df['Number of Discharges'] != 'Not Available']\n",
    "clean_hospital_read_df.loc[:, 'Number of Discharges'] = clean_hospital_read_df['Number of Discharges'].astype(int)\n",
    "clean_hospital_read_df = clean_hospital_read_df.sort_values('Number of Discharges')\n",
    "clean_hospital_read_df.tail()"
   ]
  },
  {
   "cell_type": "code",
   "execution_count": null,
   "metadata": {
    "collapsed": false,
    "scrolled": true
   },
   "outputs": [],
   "source": [
    "# generate a scatterplot for number of discharges vs. excess rate of readmissions\n",
    "# lists work better with matplotlib scatterplot function\n",
    "x = [a for a in clean_hospital_read_df['Number of Discharges'][81:-3]]\n",
    "y = list(clean_hospital_read_df['Excess Readmission Ratio'][81:-3])\n",
    "\n",
    "fig, ax = plt.subplots(figsize=(8,5))\n",
    "ax.scatter(x, y,alpha=0.2)\n",
    "\n",
    "ax.fill_between([0,350], 1.15, 2, facecolor='red', alpha = .15, interpolate=True)\n",
    "ax.fill_between([800,2500], .5, .95, facecolor='green', alpha = .15, interpolate=True)\n",
    "\n",
    "ax.set_xlim([0, max(x)])\n",
    "ax.set_xlabel('Number of discharges', fontsize=12)\n",
    "ax.set_ylabel('Excess rate of readmissions', fontsize=12)\n",
    "ax.set_title('Scatterplot of number of discharges vs. excess rate of readmissions', fontsize=14)\n",
    "\n",
    "ax.grid(True)\n",
    "fig.tight_layout()"
   ]
  },
  {
   "cell_type": "markdown",
   "metadata": {},
   "source": [
    "****\n",
    "\n",
    "## Preliminary Report\n",
    "\n",
    "Read the following results/report. While you are reading it, think about if the conclusions are correct, incorrect, misleading or unfounded. Think about what you would change or what additional analyses you would perform.\n",
    "\n",
    "**A. Initial observations based on the plot above**\n",
    "+ Overall, rate of readmissions is trending down with increasing number of discharges\n",
    "+ With lower number of discharges, there is a greater incidence of excess rate of readmissions (area shaded red)\n",
    "+ With higher number of discharges, there is a greater incidence of lower rates of readmissions (area shaded green) \n",
    "\n",
    "**B. Statistics**\n",
    "+ In hospitals/facilities with number of discharges < 100, mean excess readmission rate is 1.023 and 63% have excess readmission rate greater than 1 \n",
    "+ In hospitals/facilities with number of discharges > 1000, mean excess readmission rate is 0.978 and 44% have excess readmission rate greater than 1 \n",
    "\n",
    "**C. Conclusions**\n",
    "+ There is a significant correlation between hospital capacity (number of discharges) and readmission rates. \n",
    "+ Smaller hospitals/facilities may be lacking necessary resources to ensure quality care and prevent complications that lead to readmissions.\n",
    "\n",
    "**D. Regulatory policy recommendations**\n",
    "+ Hospitals/facilties with small capacity (< 300) should be required to demonstrate upgraded resource allocation for quality care to continue operation.\n",
    "+ Directives and incentives should be provided for consolidation of hospitals and facilities to have a smaller number of them with higher capacity and number of discharges."
   ]
  },
  {
   "cell_type": "markdown",
   "metadata": {},
   "source": [
    "****\n",
    "<div class=\"span5 alert alert-info\">\n",
    "### Exercise\n",
    "\n",
    "Include your work on the following **in this notebook and submit to your Github account**. \n",
    "\n",
    "A. Do you agree with the above analysis and recommendations? Why or why not?\n",
    "   \n",
    "B. Provide support for your arguments and your own recommendations with a statistically sound analysis:\n",
    "\n",
    "   1. Setup an appropriate hypothesis test.\n",
    "   2. Compute and report the observed significance value (or p-value).\n",
    "   3. Report statistical significance for $\\alpha$ = .01. \n",
    "   4. Discuss statistical significance and practical significance. Do they differ here? How does this change your recommendation to the client?\n",
    "   5. Look at the scatterplot above. \n",
    "      - What are the advantages and disadvantages of using this plot to convey information?\n",
    "      - Construct another plot that conveys the same information in a more direct manner.\n",
    "\n",
    "\n",
    "\n",
    "You can compose in notebook cells using Markdown: \n",
    "+ In the control panel at the top, choose Cell > Cell Type > Markdown\n",
    "+ Markdown syntax: http://nestacms.com/docs/creating-content/markdown-cheat-sheet\n",
    "</div>\n",
    "****"
   ]
  },
  {
   "cell_type": "markdown",
   "metadata": {
    "collapsed": true
   },
   "source": [
    "## Do you agree with the above analysis and recommendations? Why or why not?"
   ]
  },
  {
   "cell_type": "markdown",
   "metadata": {},
   "source": [
    "#### Statement A - Investigating initial observation claims"
   ]
  },
  {
   "cell_type": "markdown",
   "metadata": {},
   "source": [
    "The analysis suggests there is an inverse relationship between rate of readmissions and number of discharges"
   ]
  },
  {
   "cell_type": "code",
   "execution_count": null,
   "metadata": {
    "collapsed": false
   },
   "outputs": [],
   "source": [
    "#rename to df\n",
    "df = clean_hospital_read_df\n",
    "\n",
    "#plot the relationship between rate of readmissions and number of discharges\n",
    "x = df['Number of Discharges']\n",
    "y = df['Excess Readmission Ratio']\n",
    "\n",
    "fig,ax = plt.subplots(figsize=(16,5))\n",
    "ax.scatter(x,y,alpha=0.3)\n",
    "ax.set_xscale('symlog')\n",
    "ax.set_xlim([10, max(x)])\n",
    "plt.title('Rate of readmissions vs Number of discharges', fontsize=14)\n",
    "plt.ylabel('Excess Readmission Ratio')\n",
    "plt.xlabel('Number of Discharges (log scale)')\n",
    "plt.show()"
   ]
  },
  {
   "cell_type": "code",
   "execution_count": null,
   "metadata": {
    "collapsed": true
   },
   "outputs": [],
   "source": [
    "# Getting Correleation Coefficient - R2\n",
    "# 2 methods to calculate this\n",
    "print(df[['Number of Discharges', 'Excess Readmission Ratio']].corr())\n",
    "\n",
    "x = [x for x in df['Number of Discharges']]\n",
    "y = [y for r in df['Excess Readmission Ratio']]\n",
    "\n",
    "slope,intercept,r_value,p_value,std_err = stats.linregress(x,y)\n",
    "\n",
    "print('The Correleastion Coefficient is ', round(r_value,3))\n",
    "\n"
   ]
  },
  {
   "cell_type": "markdown",
   "metadata": {},
   "source": [
    "There is a very slight downward trend with increase number of discharge. \n",
    "However, the association is weak that the correlation coefficient only shows -0.097 as R2 value is very close to 0.\n",
    "This indicate a downward trend between **readmission rate** and **numnber of discharges**.\n"
   ]
  },
  {
   "cell_type": "markdown",
   "metadata": {},
   "source": [
    "#### Statement B - Number of Discharges Statistical Claim"
   ]
  },
  {
   "cell_type": "code",
   "execution_count": null,
   "metadata": {
    "collapsed": false
   },
   "outputs": [],
   "source": [
    "#plot the cleaned data to show its distribution\n",
    "discharge_plot = df['Number of Discharges'].plot(kind='hist',xlim=(0,2500),xticks=[x*100 for x in range(25)], figsize= (15,5),bins=300,grid=True)\n",
    "discharge_plot.set_xlabel(\"Number of Discharge\")\n",
    "discharge_plot.set_ylabel(\"Number of Incidence\")\n",
    "df['Number of Discharges'].describe()"
   ]
  },
  {
   "cell_type": "markdown",
   "metadata": {
    "collapsed": true
   },
   "source": [
    "This graph shows the sample is skewed to the right (positively-skewed), meaning it is not normally distributed. \n",
    "\n",
    "\n",
    "Section B made the following conclusion:\n",
    "+ In hospitals/facilities with number of discharges < 100, mean excess readmission rate is 1.023 and 63% have excess readmission rate greater than 1 \n",
    "+ In hospitals/facilities with number of discharges > 1000, mean excess readmission rate is 0.978 and 44% have excess readmission rate greater than 1 \n",
    "\n",
    "From the distribution of the 'Number of discharges', we can see the interquartile (25%-75%),which is the 50% of the distribution, is between 157 - 472.75. This statement is ignoring the majority of the distribution by setting 100 and 1000 as the threshold for the analysis."
   ]
  },
  {
   "cell_type": "code",
   "execution_count": null,
   "metadata": {
    "collapsed": false
   },
   "outputs": [],
   "source": [
    "#get > 100 and >1000 dataset\n",
    "df_100 = df[df['Number of Discharges'] < 100]\n",
    "df_100_errgt1 = (df[(df['Number of Discharges'] < 100) & (df['Excess Readmission Ratio'] > 1)]['Excess Readmission Ratio'])\n",
    "\n",
    "df_1000 = df[df['Number of Discharges'] > 1000]\n",
    "df_1000_errgt1 = (df[(df['Number of Discharges'] > 1000) & (df['Excess Readmission Ratio'] > 1)]['Excess Readmission Ratio'])\n",
    "\n",
    "#get lenth of different dataset\n",
    "n = len(df['Number of Discharges'])\n",
    "discharges_100_len = float(len(df_100))\n",
    "discharges_1000_len = float(len(df_1000))\n",
    "\n",
    "#get stats\n",
    "df_100_mean = round(df_100['Excess Readmission Ratio'].mean(),2)\n",
    "df_100_gt1 = round(len(df_100_errgt1)/discharges_100_len *100,2)\n",
    "df_100_occur = round(discharges_100_len/len(df),2)\n",
    "\n",
    "df_1000_mean = round(df_1000['Excess Readmission Ratio'].mean(),2)\n",
    "df_1000_gt1 = round(len(df_1000_errgt1)/discharges_1000_len *100,2)\n",
    "df_1000_occur = round(discharges_1000_len/len(df),2)\n",
    "\n",
    "ERR_100_mean = df_100['Excess Readmission Ratio'].mean()\n",
    "ERR_1000_mean = df_1000['Excess Readmission Ratio'].mean()\n",
    "\n",
    "print('Findings for Discharges < 100')\n",
    "print('-'*40)\n",
    "print('Mean Excess Readmission Rate',df_100_mean)\n",
    "print(df_100_gt1, \"%s have excess readmission rate greater than 1\")\n",
    "print('Percentage of number of discharge < 100 is ', df_100_occur, '%\\n\\n')\n",
    "\n",
    "print('Findings for Discharges > 1000')\n",
    "print('-'*40)\n",
    "print('Mean Excess Readmission Rate',df_1000_mean)\n",
    "print(df_1000_gt1, \"%s have excess readmission rate greater than 1\")\n",
    "print('Percentage of number of discharge > 1000 is ', df_1000_occur, '%')"
   ]
  },
  {
   "cell_type": "markdown",
   "metadata": {
    "collapsed": false
   },
   "source": [
    "As shown above, the statistics in Section B are looking at < 1% of the dataset. ( 0.11% of data is < 100 and 0.04% > 1000) \n",
    "\n",
    "Furthermore, one of the statistics is not correct. \n",
    "Only 59.18% of hospitals with Number of Discharges < 100 have an excess readmission rate of greater than 1."
   ]
  },
  {
   "cell_type": "markdown",
   "metadata": {
    "collapsed": false
   },
   "source": [
    "#### Correlation between Number of Discharge & readmission rates"
   ]
  },
  {
   "cell_type": "code",
   "execution_count": null,
   "metadata": {
    "collapsed": false
   },
   "outputs": [],
   "source": [
    "df[['Number of Discharges', 'Excess Readmission Ratio']].corr()"
   ]
  },
  {
   "cell_type": "markdown",
   "metadata": {},
   "source": [
    "As stated above, a correlation of -0.1 points to a very weak negative linear relationship between discharges and admission ratio. \n",
    "(A correlation of 1 or -1 = perfect linear relationsip. 0 = no linear relationship.)\n",
    "\n",
    "The claim that \"There is a significant correlation between hospital capacity (number of discharges) and readmission rates\" does not hold."
   ]
  },
  {
   "cell_type": "markdown",
   "metadata": {},
   "source": [
    "#### Regulatory policy recommendations"
   ]
  },
  {
   "cell_type": "code",
   "execution_count": null,
   "metadata": {
    "collapsed": false
   },
   "outputs": [],
   "source": [
    "#clean up data where number of discharges = 0 \n",
    "df['Number of Discharges'] = df['Number of Discharges'][df['Number of Discharges'] != 0]   # Get rid of 0 discharges"
   ]
  },
  {
   "cell_type": "code",
   "execution_count": null,
   "metadata": {
    "collapsed": false
   },
   "outputs": [],
   "source": [
    "#get distribution of readmissions and discharges\n",
    "plt.subplots(figsize=(16,8))\n",
    "\n",
    "#all Discharges and Readmission Rate\n",
    "plt.subplot(2, 3, 1)\n",
    "df['Excess Readmission Ratio'].plot(kind='hist', title='distribution of all readmissions')\n",
    "plt.subplot(2, 3, 4)\n",
    "df['Number of Discharges'].plot(kind='hist', title='distribution of all discharges')\n",
    "\n",
    "#filter datasets\n",
    "df_l300 = df[df['Number of Discharges'] < 300]\n",
    "df_g300 = df[(df['Number of Discharges'] >= 300)]\n",
    "\n",
    "#<300\n",
    "plt.subplot(2, 3, 2)\n",
    "plot_l300_ERR = df_l300['Excess Readmission Ratio'].plot(kind='hist', title='distribution of readmissions <300')\n",
    "plot_l300_ERR.set_xlabel('Excess Readmission Ratio')\n",
    "plt.subplot(2, 3, 5)\n",
    "plot_1300_NOD = df_l300['Number of Discharges'].plot(kind='hist', title='distribution of discharges <300')\n",
    "\n",
    "#>=300\n",
    "plt.subplot(2, 3, 3)\n",
    "plot_g300_ERR = df_g300['Excess Readmission Ratio'].plot(kind='hist', title='distribution of readmissions >=300')\n",
    "plot_l300_ERR.set_xlabel('Excess Readmission Ratio')\n",
    "\n",
    "plt.subplot(2, 3, 6)\n",
    "# has 3 values 3570, 3980, 6793 that spread the chart. Eliminate\n",
    "plot_g300_NOD = df_g300['Number of Discharges'].plot(kind='hist', bins=25, title='distribution of discharges >=300').set_xlim([300, 3000]); "
   ]
  },
  {
   "cell_type": "markdown",
   "metadata": {},
   "source": [
    "Original conclusion are:\n",
    "- Hospitals/facilties with small capacity (< 300) should be required to demonstrate upgraded resource allocation for quality care to continue operation.\n",
    "- Directives and incentives should be provided for consolidation of hospitals and facilities to have a smaller number of them with higher capacity and number of discharges.\n",
    "\n",
    "\n",
    "The distribution of readmissions for hospitals with discharges < 300 seems quite similar to those with >300 discharges. Just slightly higher.\n",
    "\n",
    "The means value of 1.02 for hospitals with less than 100 discharges and 0.98 for hopsitals with more than 1,000 discharges are both within 0.23 of the theshold value of 1. \n",
    "\n",
    "So the point statement about larger hospitals leading to better outcomes seems to be not valid."
   ]
  },
  {
   "cell_type": "markdown",
   "metadata": {
    "collapsed": true
   },
   "source": [
    "### B. Provide support for your arguments and your own recommendations with a statistically sound analysis"
   ]
  },
  {
   "cell_type": "markdown",
   "metadata": {
    "collapsed": true
   },
   "source": [
    "    1.Setup an appropriate hypothesis test.\n",
    "    2.Compute and report the observed significance value (or p-value).\n",
    "    3.Report statistical significance for α = .01.\n",
    "    4.Discuss statistical significance and practical significance\n"
   ]
  },
  {
   "cell_type": "markdown",
   "metadata": {
    "collapsed": true
   },
   "source": [
    "1. Hypothesis Testing\n",
    "\n",
    "Since Policy recommendation use 300 discharges or less as the cut off point for improvement. I will use a 2-Sample Z test to measure the difference in excess readmission rate between hospital with **few than 300 discharges** and **more than 300 discharges**.\n",
    "\n",
    "**Null Hypothesis**: There is no difference in the mean readmission rate of hospital facilities with discharges less than 300 and hospitals with 300 or more discharges \n",
    "\n",
    "**Alternative Hypothesis**: There is a difference in the excess readmission rate between hostpirals with discharges less than 300 and hospitals with 300 or more discharges.\n",
    "\n",
    "    Null Hypothesis: mul300 - mug300=0\n",
    "    Alternative Hypothesis: mul300 - mug300 !=0\n"
   ]
  },
  {
   "cell_type": "code",
   "execution_count": null,
   "metadata": {
    "collapsed": false
   },
   "outputs": [],
   "source": [
    "# a two-sided test\n",
    "mu = 0\n",
    "\n",
    "# extract data\n",
    "l300 = df_l300['Excess Readmission Ratio']\n",
    "g300 = df_g300['Excess Readmission Ratio']\n",
    "\n",
    "df_300 = df[['Number of Discharges', 'Excess Readmission Ratio']]\n",
    "df_300['Category'] = 'None'\n",
    "df_300.Category.loc[df_300['Number of Discharges'] < 300] = '< 300'\n",
    "df_300.Category.loc[df_300['Number of Discharges'] >= 300] = '>= 300'"
   ]
  },
  {
   "cell_type": "markdown",
   "metadata": {},
   "source": [
    "**Assumption for 2-Sample Test**\n",
    "1. Both Groups are approximatly normally distributed and have large sample size (>30)\n",
    "2. Each Sample is expected to be representative of CMS population. Only hospital credited by Centers for Medicare and Medicaid Service(CMS).\n",
    "3. Population standard deviation will be estimated by sample deviation of sampel"
   ]
  },
  {
   "cell_type": "code",
   "execution_count": null,
   "metadata": {
    "collapsed": true
   },
   "outputs": [],
   "source": [
    "l300.hist()"
   ]
  },
  {
   "cell_type": "code",
   "execution_count": null,
   "metadata": {
    "collapsed": false
   },
   "outputs": [],
   "source": [
    "#point estimate - difference between sampled hospitals eith less than 300 discharges and sampled with 300 or more discharges\n",
    "l300.mean() - g300.mean()"
   ]
  },
  {
   "cell_type": "markdown",
   "metadata": {},
   "source": [
    "Check Central Limit Theorem - sample size: each sample must be at least n >= 30\n"
   ]
  },
  {
   "cell_type": "code",
   "execution_count": null,
   "metadata": {
    "collapsed": false
   },
   "outputs": [],
   "source": [
    "l300.describe()[0], g300.describe()[0]"
   ]
  },
  {
   "cell_type": "code",
   "execution_count": null,
   "metadata": {
    "collapsed": false
   },
   "outputs": [],
   "source": [
    "print(\"Readmission Ratio\")\n",
    "print(\"all  : \" + str(stats.normaltest(y)))\n",
    "print(\"<300 : \" + str(stats.normaltest(l300)))\n",
    "print(\">=300: \" + str(stats.normaltest(g300)))"
   ]
  },
  {
   "cell_type": "code",
   "execution_count": null,
   "metadata": {
    "collapsed": false
   },
   "outputs": [],
   "source": [
    "# variability should be consistent across groups (homoscedastic)\n",
    "print('Visual inspection of constant variance')\n",
    "df_300[[ 'Excess Readmission Ratio', 'Category']].groupby('Category').boxplot(return_type='axes', figsize=(20,10));"
   ]
  },
  {
   "cell_type": "markdown",
   "metadata": {},
   "source": [
    "As the point estimates is close to 0 and the sample sizes are similar and large. The means looks similar with slight difference in the variance. seems to support the null hypothesis."
   ]
  }
 ],
 "metadata": {
  "anaconda-cloud": {},
  "kernelspec": {
   "display_name": "Python 3",
   "language": "python",
   "name": "python3"
  },
  "language_info": {
   "codemirror_mode": {
    "name": "ipython",
    "version": 3
   },
   "file_extension": ".py",
   "mimetype": "text/x-python",
   "name": "python",
   "nbconvert_exporter": "python",
   "pygments_lexer": "ipython3",
   "version": "3.5.2"
  }
 },
 "nbformat": 4,
 "nbformat_minor": 0
}
